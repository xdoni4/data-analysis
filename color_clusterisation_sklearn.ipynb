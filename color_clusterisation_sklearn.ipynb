{
 "cells": [
  {
   "cell_type": "code",
   "execution_count": 1,
   "metadata": {},
   "outputs": [
    {
     "name": "stdout",
     "output_type": "stream",
     "text": [
      "[[ -27 -121  125]\n",
      " [ -26 -120  126]\n",
      " [ -26 -120  126]\n",
      " ...\n",
      " [ -86   76   77]\n",
      " [ -86   76   77]\n",
      " [ -87   75   76]]\n"
     ]
    },
    {
     "ename": "KeyboardInterrupt",
     "evalue": "",
     "output_type": "error",
     "traceback": [
      "\u001b[0;31m---------------------------------------------------------------------------\u001b[0m",
      "\u001b[0;31mKeyboardInterrupt\u001b[0m                         Traceback (most recent call last)",
      "\u001b[0;32m<__array_function__ internals>\u001b[0m in \u001b[0;36mwhere\u001b[0;34m(*args, **kwargs)\u001b[0m\n",
      "\u001b[0;31mKeyboardInterrupt\u001b[0m: "
     ]
    },
    {
     "name": "stderr",
     "output_type": "stream",
     "text": [
      "Exception ignored in: 'sklearn.cluster._k_means_fast._relocate_empty_clusters_dense'\n",
      "Traceback (most recent call last):\n",
      "  File \"<__array_function__ internals>\", line 2, in where\n",
      "KeyboardInterrupt: \n"
     ]
    }
   ],
   "source": [
    "import random\n",
    "from sklearn.cluster import KMeans\n",
    "import numpy as np\n",
    "import PIL\n",
    "from PIL import Image\n",
    "\n",
    "img = Image.open('lena.jpg')\n",
    "img.load()\n",
    "pixels = np.array(img.getdata(), dtype='int8')\n",
    "\n",
    "kmeans = KMeans(n_clusters=16, random_state=7).fit(pixels)\n",
    "centers = kmeans.cluster_centers_\n",
    "labels = kmeans.labels_\n",
    "pixels_compressed = pixels\n",
    "for i in range(len(pixels_compressed)):\n",
    "    pixels_compressed[i] = centers[labels[i]]\n",
    "pixels_compressed = pixels_compressed.reshape((1200,1200, 3))\n",
    "new_img = PIL.Image.fromarray(pixels_compressed, mode='RGB')\n",
    "new_img.show()\n"
   ]
  }
 ],
 "metadata": {
  "kernelspec": {
   "display_name": "Python 3",
   "language": "python",
   "name": "python3"
  },
  "language_info": {
   "codemirror_mode": {
    "name": "ipython",
    "version": 3
   },
   "file_extension": ".py",
   "mimetype": "text/x-python",
   "name": "python",
   "nbconvert_exporter": "python",
   "pygments_lexer": "ipython3",
   "version": "3.9.1"
  }
 },
 "nbformat": 4,
 "nbformat_minor": 4
}
